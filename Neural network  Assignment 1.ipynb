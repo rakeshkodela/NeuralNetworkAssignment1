{
 "cells": [
  {
   "cell_type": "code",
   "execution_count": 7,
   "id": "9d140998",
   "metadata": {},
   "outputs": [
    {
     "name": "stdout",
     "output_type": "stream",
     "text": [
      "ntyp\n"
     ]
    }
   ],
   "source": [
    "givenStr = \"python\";\n",
    "givenStr = givenStr.replace('h','');\n",
    "givenStr = givenStr.replace('o','');\n",
    "print(givenStr[::-1]);"
   ]
  },
  {
   "cell_type": "code",
   "execution_count": 6,
   "id": "ad64c624",
   "metadata": {},
   "outputs": [
    {
     "name": "stdout",
     "output_type": "stream",
     "text": [
      "17\n",
      "-1\n",
      "72\n",
      "0.8888888888888888\n"
     ]
    }
   ],
   "source": [
    "x = 8;\n",
    "y = 9;\n",
    "print(x+y);\n",
    "print(x-y);\n",
    "print(x*y);\n",
    "print(x/y);"
   ]
  },
  {
   "cell_type": "code",
   "execution_count": 4,
   "id": "6aa20fbc",
   "metadata": {},
   "outputs": [
    {
     "name": "stdout",
     "output_type": "stream",
     "text": [
      "I love playing with pythons\n"
     ]
    }
   ],
   "source": [
    "inputStr = \"I love playing with python\";\n",
    "print(inputStr.replace('python','pythons'));"
   ]
  },
  {
   "cell_type": "code",
   "execution_count": 5,
   "id": "72e36cfa",
   "metadata": {},
   "outputs": [
    {
     "name": "stdout",
     "output_type": "stream",
     "text": [
      "Enter your score:25\n",
      "F\n"
     ]
    }
   ],
   "source": [
    "score = int(input(\"Enter your score:\"));\n",
    "if score >= 90 and score <=100:\n",
    "    print(\"A\");\n",
    "elif score >= 80 and score <=89:\n",
    "    print(\"B\");\n",
    "elif score >= 70 and score <=79:\n",
    "    print(\"C\");\n",
    "elif score >= 60 and score <=69:\n",
    "    print(\"D\");\n",
    "else:\n",
    "    print(\"F\");"
   ]
  },
  {
   "cell_type": "code",
   "execution_count": null,
   "id": "bd41f55f",
   "metadata": {},
   "outputs": [],
   "source": []
  }
 ],
 "metadata": {
  "kernelspec": {
   "display_name": "Python 3 (ipykernel)",
   "language": "python",
   "name": "python3"
  },
  "language_info": {
   "codemirror_mode": {
    "name": "ipython",
    "version": 3
   },
   "file_extension": ".py",
   "mimetype": "text/x-python",
   "name": "python",
   "nbconvert_exporter": "python",
   "pygments_lexer": "ipython3",
   "version": "3.9.13"
  }
 },
 "nbformat": 4,
 "nbformat_minor": 5
}
